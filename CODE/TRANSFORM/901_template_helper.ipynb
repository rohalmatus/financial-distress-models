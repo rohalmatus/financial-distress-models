{
 "cells": [
  {
   "cell_type": "code",
   "execution_count": 1,
   "metadata": {},
   "outputs": [],
   "source": [
    "import pandas as pd\n",
    "import numpy as np\n",
    "\n",
    "import ast\n",
    "\n",
    "\n",
    "pd.set_option('display.max_rows', 100)"
   ]
  },
  {
   "cell_type": "code",
   "execution_count": 2,
   "metadata": {},
   "outputs": [
    {
     "name": "stderr",
     "output_type": "stream",
     "text": [
      "C:\\Users\\matus.rohal\\AppData\\Roaming\\Python\\Python310\\site-packages\\IPython\\core\\interactiveshell.py:3433: DtypeWarning: Columns (12,13) have mixed types.Specify dtype option on import or set low_memory=False.\n",
      "  exec(code_obj, self.user_global_ns, self.user_ns)\n"
     ]
    }
   ],
   "source": [
    "templates_table = pd.read_csv('../../DATA/RAW/register_uz_apr23/preprocessed/templates_dataset.csv')\n",
    "reports_table = pd.read_csv('../../DATA/TRANSFORM/financial_statements/financial_reports_table_sample.csv')\n",
    "statements_table = pd.read_csv('../../DATA/TRANSFORM/financial_statements/financial_statements_table.csv')\n",
    "\n",
    "statements_table = statements_table[['financial_statement_id', 'entity_id', 'entity_ico', 'year', 'month']]"
   ]
  },
  {
   "cell_type": "code",
   "execution_count": 3,
   "metadata": {},
   "outputs": [],
   "source": [
    "reports_table = reports_table.merge(statements_table, on = 'financial_statement_id', how = 'left')\n",
    "statements_table = None"
   ]
  },
  {
   "cell_type": "code",
   "execution_count": 11,
   "metadata": {},
   "outputs": [
    {
     "data": {
      "text/html": [
       "<div>\n",
       "<style scoped>\n",
       "    .dataframe tbody tr th:only-of-type {\n",
       "        vertical-align: middle;\n",
       "    }\n",
       "\n",
       "    .dataframe tbody tr th {\n",
       "        vertical-align: top;\n",
       "    }\n",
       "\n",
       "    .dataframe thead th {\n",
       "        text-align: right;\n",
       "    }\n",
       "</style>\n",
       "<table border=\"1\" class=\"dataframe\">\n",
       "  <thead>\n",
       "    <tr style=\"text-align: right;\">\n",
       "      <th></th>\n",
       "      <th>template_id</th>\n",
       "      <th>template_name</th>\n",
       "    </tr>\n",
       "  </thead>\n",
       "  <tbody>\n",
       "    <tr>\n",
       "      <th>2526</th>\n",
       "      <td>21</td>\n",
       "      <td>Súvaha Úč POD 1-01</td>\n",
       "    </tr>\n",
       "    <tr>\n",
       "      <th>2673</th>\n",
       "      <td>22</td>\n",
       "      <td>Výkaz ziskov a strát Úč POD 2-01</td>\n",
       "    </tr>\n",
       "    <tr>\n",
       "      <th>4770</th>\n",
       "      <td>687</td>\n",
       "      <td>Úč MUJ</td>\n",
       "    </tr>\n",
       "    <tr>\n",
       "      <th>5263</th>\n",
       "      <td>699</td>\n",
       "      <td>Úč POD</td>\n",
       "    </tr>\n",
       "    <tr>\n",
       "      <th>7158</th>\n",
       "      <td>943</td>\n",
       "      <td>Výkaz vybraných údajov</td>\n",
       "    </tr>\n",
       "  </tbody>\n",
       "</table>\n",
       "</div>"
      ],
      "text/plain": [
       "      template_id                     template_name\n",
       "2526           21                Súvaha Úč POD 1-01\n",
       "2673           22  Výkaz ziskov a strát Úč POD 2-01\n",
       "4770          687                            Úč MUJ\n",
       "5263          699                            Úč POD\n",
       "7158          943            Výkaz vybraných údajov"
      ]
     },
     "execution_count": 11,
     "metadata": {},
     "output_type": "execute_result"
    }
   ],
   "source": [
    "templates_table.query('template_id in [687, 699, 22, 21, 943]')[['template_id', 'template_name']].drop_duplicates()"
   ]
  },
  {
   "cell_type": "code",
   "execution_count": 12,
   "metadata": {},
   "outputs": [],
   "source": [
    "def print_template(template_id):\n",
    "    table = templates_table.query('template_id == @template_id')[['table_name', 'type', 'row', 'column', 'text']]\n",
    "    columns = table.query('type == \"column\"')\n",
    "    \n",
    "    header_width = int(columns['column'].max())\n",
    "    header_height = int(columns['row'].max())\n",
    "    tables_headers = []\n",
    "    for table_name in columns['table_name'].unique():\n",
    "        print(table_name)\n",
    "        table_header = []\n",
    "        for row_number in range(1, header_height + 1):\n",
    "            header_row = []\n",
    "            for col_number in range(1, header_width + 1):\n",
    "                try:\n",
    "                    header_row.append(columns.query('table_name == @table_name and column == @col_number and row == @row_number').iloc[0,4])\n",
    "                except IndexError:\n",
    "                    header_row.append('-')\n",
    "                    \n",
    "            print(header_row)  \n",
    "            table_header.append(header_row)\n",
    "        tables_headers.append(table_header)\n",
    "        \n",
    "        display(table.query('type == \"row\"').query('table_name == @table_name')[['row', 'text']].sort_values('row').set_index('row'))\n",
    "        print()\n"
   ]
  },
  {
   "cell_type": "code",
   "execution_count": 13,
   "metadata": {},
   "outputs": [],
   "source": [
    "templates_codes = {\n",
    "    'MUJ': 687,\n",
    "    'POD': 699,\n",
    "    'POD_1': 21,\n",
    "    'POD_2': 22,\n",
    "    'VVU': 943,\n",
    "}"
   ]
  },
  {
   "cell_type": "code",
   "execution_count": 14,
   "metadata": {},
   "outputs": [],
   "source": [
    "# for key, value in templates_codes.items():\n",
    "#     print(key)\n",
    "#     print_template(value)\n",
    "\n",
    "# print_template(templates_codes['POD'])"
   ]
  },
  {
   "cell_type": "code",
   "execution_count": 78,
   "metadata": {},
   "outputs": [],
   "source": [
    "class Report:\n",
    "\n",
    "    def __init__(self, template_id):\n",
    "        self.template_id = template_id\n",
    "        self.title_page = None\n",
    "        self.tables = None\n",
    "\n",
    "\n",
    "class ReportContentParser:\n",
    "\n",
    "    def parse(self, template_id, content_string):\n",
    "\n",
    "        report = Report(template_id)\n",
    "\n",
    "        content = ast.literal_eval(content_string)\n",
    "        \n",
    "        display('title page:', content.get('titulnaStrana'))\n",
    "\n",
    "        tables_content = content.get('tabulky')\n",
    "        if tables_content is None:\n",
    "            print('DOES NOT CONTAIN TABLES')\n",
    "            return\n",
    "\n",
    "        values = []\n",
    "        if template_id == 687: values = self.__parse_MUJ(tables_content)\n",
    "        if template_id == 699: values = self.__parse_POD(tables_content)         \n",
    "        if template_id == 21: values = self.__parse_POD_1(tables_content)        \n",
    "        if template_id == 22: values = self.__parse_POD_2(tables_content)\n",
    "        print(values)\n",
    "    \n",
    "    def __parse_title_page(self, title_page_content): return None\n",
    "    \n",
    "    def __parse_MUJ(self, tables_content):\n",
    "        # 687\n",
    "\n",
    "        assets = tables_content[0]['data']\n",
    "        assets = np.reshape(np.array(assets), (len(assets)//2, 2))[:, 0]\n",
    "        assets[assets=='']='0'\n",
    "        assets = assets.astype(float)\n",
    "\n",
    "        liab = tables_content[1]['data']\n",
    "        liab = np.reshape(np.array(liab), (len(liab)//2, 2))[:, 0]\n",
    "        liab[liab=='']='0'\n",
    "        liab = liab.astype(float)\n",
    "\n",
    "        income = tables_content[2]['data']\n",
    "        income = np.reshape(np.array(income), (len(income)//2, 2))[:, 0]\n",
    "        income[income=='']='0'\n",
    "        income = income.astype(float)\n",
    "\n",
    "        ca = assets[14]+assets[16]+assets[20]\n",
    "        ta = assets[0]\n",
    "        eq = liab[1]\n",
    "        cl = liab[14] + liab[21] + liab[20]\n",
    "        ncl = liab[11] + liab[13]\n",
    "        tl = cl + ncl\n",
    "        cash = assets[20]\n",
    "        cf = income[37] + income[13]\n",
    "        sal = income[1] + income[2] + income[5] + income[20]\n",
    "        eat = income[37]\n",
    "        ebit = income[30] + income[35] + income[37]\n",
    "\n",
    "        values = [ca, ta, eq, cl, ncl, tl, cash, cf, sal, eat, ebit]\n",
    "        display(pd.DataFrame([values], columns = ['ca', 'ta', 'eq', 'cl', 'ncl', 'tl', 'cash', 'cf', 'sal', 'eat', 'ebit']))\n",
    "        return values\n",
    "\n",
    "    \n",
    "    def __parse_POD(self, tables_content):\n",
    "        # 699\n",
    "        assets = tables_content[0]['data']\n",
    "        assets = np.reshape(np.array(assets), (len(assets)//4, 4))[:, 2]\n",
    "        assets[assets=='']='0'\n",
    "        assets = assets.astype(float)\n",
    "\n",
    "        liab = tables_content[1]['data']\n",
    "        liab = np.reshape(np.array(liab), (len(liab)//2, 2))[:, 0]\n",
    "        liab[liab=='']='0'\n",
    "        liab = liab.astype(float)\n",
    "\n",
    "        S = np.concatenate([assets, liab])\n",
    "\n",
    "        income = tables_content[2]['data']\n",
    "        income = np.reshape(np.array(income), (len(income)//2, 2))[:, 0]\n",
    "        income[income=='']='0'\n",
    "        income = income.astype(float)\n",
    "\n",
    "        V = income\n",
    "\n",
    "        ca = S[70] + S[52] + S[33] # vyrost\n",
    "        cl = S[121] # vyrost\n",
    "        cc = S[52]\n",
    "        ta = S[0]\n",
    "        eq = S[79]\n",
    "        tl = S[100]\n",
    "        cash = S[70]\n",
    "        cf = V[60] + V[21]\n",
    "        sal = V[2] + V[3] + V[4] + V[7] + V[29]\n",
    "        eat = V[60]\n",
    "        ebit = V[26] - V[7] + V[23] + V[12] + V[22] + V[24] - V[8]\n",
    "        ebt = V[55]\n",
    "        it = V[38] + V[48]\n",
    "        stock = S[33]\n",
    "        yie = V[1] + V[28]\n",
    "        cost = V[9] + V[44]\n",
    "\n",
    "        values = [ca, cc, ta, eq, cl, tl - cl, tl, cash, cf, sal, eat, ebit, ebt, stock, cost, it, yie]\n",
    "        display(pd.DataFrame([values], columns = ['ca', 'cc', 'ta', 'eq', 'cl', 'ncl', 'tl', 'cash', 'cf', 'sal', 'eat', 'ebit', 'ebt', 'stock', 'cost', 'it', 'yie']))\n",
    "        return values\n",
    "    \n",
    "    def __parse_POD_1(self, tables_content):\n",
    "        # 21\n",
    "        for table in tables_content:\n",
    "            name = table.get('nazov')\n",
    "            print(name)            \n",
    "            data = table.get('data')\n",
    "            if data is None:\n",
    "                print('DOES NOT CONTAIN DATA')\n",
    "            print(data)\n",
    "        return []\n",
    "    \n",
    "    def __parse_POD_2(self, tables_content):\n",
    "        # 22\n",
    "        for table in tables_content:\n",
    "            name = table.get('nazov')\n",
    "            print(name)\n",
    "            data = table.get('data')\n",
    "            if data is None:\n",
    "                print('DOES NOT CONTAIN DATA')\n",
    "            print(data)\n",
    "        return []\n"
   ]
  },
  {
   "cell_type": "code",
   "execution_count": 79,
   "metadata": {},
   "outputs": [],
   "source": [
    "def get_random_report(query_string = None):\n",
    "    if query_string is None:\n",
    "        report = reports_table.sample(1).iloc[0, :]\n",
    "    else:\n",
    "        report = reports_table.query(query_string).sample(1).iloc[0, :]\n",
    "    \n",
    "    print('ICO', int(report.entity_ico))\n",
    "    print(f'https://www.registeruz.sk/cruz-public/domain/accountingentity/show/{(report.entity_id)}')\n",
    "\n",
    "    print()\n",
    "    print(f'{report.month}/{report.year}')\n",
    "\n",
    "    parser = ReportContentParser()\n",
    "    parser.parse(report.template_id, report.content)\n",
    "\n"
   ]
  },
  {
   "cell_type": "code",
   "execution_count": 80,
   "metadata": {},
   "outputs": [
    {
     "name": "stdout",
     "output_type": "stream",
     "text": [
      "template: 699.0\n",
      "ICO 48173193\n",
      "https://www.registeruz.sk/cruz-public/domain/accountingentity/show/1596818\n",
      "\n",
      "1/2017\n"
     ]
    },
    {
     "data": {
      "text/plain": [
       "'title page:'"
      ]
     },
     "metadata": {},
     "output_type": "display_data"
    },
    {
     "data": {
      "text/plain": [
       "{'nazovUctovnejJednotky': 'TNG s.r.o.',\n",
       " 'ico': '48173193',\n",
       " 'dic': '2120086463',\n",
       " 'typUctovnejJednotky': 'veľká',\n",
       " 'adresa': {'ulica': 'Ružová Dolina',\n",
       "  'cislo': '8',\n",
       "  'psc': '82109',\n",
       "  'mesto': 'Bratislava'},\n",
       " 'skNace': '46900',\n",
       " 'typZavierky': 'Riadna',\n",
       " 'obdobieOd': '2017-01',\n",
       " 'obdobieDo': '2017-12',\n",
       " 'predchadzajuceObdobieOd': '2016-01',\n",
       " 'predchadzajuceObdobieDo': '2016-12',\n",
       " 'datumSchvalenia': '2018-03-29',\n",
       " 'datumZostavenia': '2018-03-29'}"
      ]
     },
     "metadata": {},
     "output_type": "display_data"
    },
    {
     "data": {
      "text/html": [
       "<div>\n",
       "<style scoped>\n",
       "    .dataframe tbody tr th:only-of-type {\n",
       "        vertical-align: middle;\n",
       "    }\n",
       "\n",
       "    .dataframe tbody tr th {\n",
       "        vertical-align: top;\n",
       "    }\n",
       "\n",
       "    .dataframe thead th {\n",
       "        text-align: right;\n",
       "    }\n",
       "</style>\n",
       "<table border=\"1\" class=\"dataframe\">\n",
       "  <thead>\n",
       "    <tr style=\"text-align: right;\">\n",
       "      <th></th>\n",
       "      <th>ca</th>\n",
       "      <th>cc</th>\n",
       "      <th>ta</th>\n",
       "      <th>eq</th>\n",
       "      <th>cl</th>\n",
       "      <th>ncl</th>\n",
       "      <th>tl</th>\n",
       "      <th>cash</th>\n",
       "      <th>cf</th>\n",
       "      <th>sal</th>\n",
       "      <th>eat</th>\n",
       "      <th>ebit</th>\n",
       "      <th>ebt</th>\n",
       "      <th>stock</th>\n",
       "      <th>cost</th>\n",
       "      <th>it</th>\n",
       "      <th>yie</th>\n",
       "    </tr>\n",
       "  </thead>\n",
       "  <tbody>\n",
       "    <tr>\n",
       "      <th>0</th>\n",
       "      <td>18055.0</td>\n",
       "      <td>16676.0</td>\n",
       "      <td>18055.0</td>\n",
       "      <td>12740.0</td>\n",
       "      <td>5315.0</td>\n",
       "      <td>0.0</td>\n",
       "      <td>5315.0</td>\n",
       "      <td>1379.0</td>\n",
       "      <td>-551.0</td>\n",
       "      <td>2666577.0</td>\n",
       "      <td>-551.0</td>\n",
       "      <td>-629.0</td>\n",
       "      <td>-551.0</td>\n",
       "      <td>0.0</td>\n",
       "      <td>2667546.0</td>\n",
       "      <td>0.0</td>\n",
       "      <td>2666995.0</td>\n",
       "    </tr>\n",
       "  </tbody>\n",
       "</table>\n",
       "</div>"
      ],
      "text/plain": [
       "        ca       cc       ta       eq      cl  ncl      tl    cash     cf  \\\n",
       "0  18055.0  16676.0  18055.0  12740.0  5315.0  0.0  5315.0  1379.0 -551.0   \n",
       "\n",
       "         sal    eat   ebit    ebt  stock       cost   it        yie  \n",
       "0  2666577.0 -551.0 -629.0 -551.0    0.0  2667546.0  0.0  2666995.0  "
      ]
     },
     "metadata": {},
     "output_type": "display_data"
    },
    {
     "name": "stdout",
     "output_type": "stream",
     "text": [
      "[18055.0, 16676.0, 18055.0, 12740.0, 5315.0, 0.0, 5315.0, 1379.0, -551.0, 2666577.0, -551.0, -629.0, -551.0, 0.0, 2667546.0, 0.0, 2666995.0]\n",
      "\n",
      "template: 687.0\n",
      "ICO 51126486\n",
      "https://www.registeruz.sk/cruz-public/domain/accountingentity/show/1732641\n",
      "\n",
      "1/2017\n"
     ]
    },
    {
     "data": {
      "text/plain": [
       "'title page:'"
      ]
     },
     "metadata": {},
     "output_type": "display_data"
    },
    {
     "data": {
      "text/plain": [
       "{'nazovUctovnejJednotky': 'Salvezza s.r.o.',\n",
       " 'ico': '51126486',\n",
       " 'dic': '2120611042',\n",
       " 'adresa': {'ulica': 'POĽNOHOSPODÁRSKA',\n",
       "  'cislo': '5',\n",
       "  'psc': '82107',\n",
       "  'mesto': 'Bratislava-Vrakuňa'},\n",
       " 'skNace': '46900',\n",
       " 'typZavierky': 'Riadna',\n",
       " 'obdobieOd': '2017-01',\n",
       " 'obdobieDo': '2017-12',\n",
       " 'predchadzajuceObdobieOd': '2016-01',\n",
       " 'predchadzajuceObdobieDo': '2016-12',\n",
       " 'datumSchvalenia': '2018-03-26',\n",
       " 'datumZostavenia': '2018-03-26',\n",
       " 'oznacenieObchodnehoRegistra': 'OR Okresného súdu Bratislava I, Oddiel:Sro, vložka:123349/B'}"
      ]
     },
     "metadata": {},
     "output_type": "display_data"
    },
    {
     "data": {
      "text/html": [
       "<div>\n",
       "<style scoped>\n",
       "    .dataframe tbody tr th:only-of-type {\n",
       "        vertical-align: middle;\n",
       "    }\n",
       "\n",
       "    .dataframe tbody tr th {\n",
       "        vertical-align: top;\n",
       "    }\n",
       "\n",
       "    .dataframe thead th {\n",
       "        text-align: right;\n",
       "    }\n",
       "</style>\n",
       "<table border=\"1\" class=\"dataframe\">\n",
       "  <thead>\n",
       "    <tr style=\"text-align: right;\">\n",
       "      <th></th>\n",
       "      <th>ca</th>\n",
       "      <th>ta</th>\n",
       "      <th>eq</th>\n",
       "      <th>cl</th>\n",
       "      <th>ncl</th>\n",
       "      <th>tl</th>\n",
       "      <th>cash</th>\n",
       "      <th>cf</th>\n",
       "      <th>sal</th>\n",
       "      <th>eat</th>\n",
       "      <th>ebit</th>\n",
       "    </tr>\n",
       "  </thead>\n",
       "  <tbody>\n",
       "    <tr>\n",
       "      <th>0</th>\n",
       "      <td>6639.0</td>\n",
       "      <td>6639.0</td>\n",
       "      <td>6639.0</td>\n",
       "      <td>0.0</td>\n",
       "      <td>0.0</td>\n",
       "      <td>0.0</td>\n",
       "      <td>6639.0</td>\n",
       "      <td>0.0</td>\n",
       "      <td>0.0</td>\n",
       "      <td>0.0</td>\n",
       "      <td>0.0</td>\n",
       "    </tr>\n",
       "  </tbody>\n",
       "</table>\n",
       "</div>"
      ],
      "text/plain": [
       "       ca      ta      eq   cl  ncl   tl    cash   cf  sal  eat  ebit\n",
       "0  6639.0  6639.0  6639.0  0.0  0.0  0.0  6639.0  0.0  0.0  0.0   0.0"
      ]
     },
     "metadata": {},
     "output_type": "display_data"
    },
    {
     "name": "stdout",
     "output_type": "stream",
     "text": [
      "[6639.0, 6639.0, 6639.0, 0.0, 0.0, 0.0, 6639.0, 0.0, 0.0, 0.0, 0.0]\n",
      "\n",
      "template: 22.0\n",
      "ICO 46731865\n",
      "https://www.registeruz.sk/cruz-public/domain/accountingentity/show/1228055\n",
      "\n",
      "1/2013\n"
     ]
    },
    {
     "data": {
      "text/plain": [
       "'title page:'"
      ]
     },
     "metadata": {},
     "output_type": "display_data"
    },
    {
     "data": {
      "text/plain": [
       "{'nazovUctovnejJednotky': 'SWAG s. r. o.',\n",
       " 'ico': '46731865',\n",
       " 'dic': '2023580966',\n",
       " 'adresa': {'ulica': 'Rozvodná',\n",
       "  'cislo': '2960/7',\n",
       "  'psc': '83101',\n",
       "  'mesto': 'Bratislava 3 - Nové Mesto'},\n",
       " 'skNace': '18120',\n",
       " 'typZavierky': 'Riadna',\n",
       " 'obdobieOd': '2013-01',\n",
       " 'obdobieDo': '2013-12',\n",
       " 'predchadzajuceObdobieOd': '2012-01',\n",
       " 'predchadzajuceObdobieDo': '2012-12',\n",
       " 'datumZostavenia': '2014-03-27'}"
      ]
     },
     "metadata": {},
     "output_type": "display_data"
    },
    {
     "name": "stdout",
     "output_type": "stream",
     "text": [
      "{'sk': 'Výkaz ziskov a strát'}\n",
      "['', '', '', '', '', '', '', '', '', '', '', '', '', '', '', '114', '', '', '', '114', '', '-114', '', '', '', '', '', '', '', '', '', '', '', '166', '', '', '', '', '', '', '', '', '', '', '', '', '', '', '', '', '', '-280', '', '', '', '', '', '', '', '', '', '', '', '', '', '', '', '', '', '', '', '', '', '', '', '', '', '', '', '', '', '', '', '', '', '', '', '', '', '', '', '', '', '-280', '', '', '', '', '', '', '', '-280', '', '', '', '', '', '', '', '', '', '', '', '', '', '', '', '-280', '', '', '', '-280']\n",
      "[]\n",
      "\n",
      "template: 21.0\n",
      "ICO 44739419\n",
      "https://www.registeruz.sk/cruz-public/domain/accountingentity/show/769703\n",
      "\n",
      "1/2013\n"
     ]
    },
    {
     "data": {
      "text/plain": [
       "'title page:'"
      ]
     },
     "metadata": {},
     "output_type": "display_data"
    },
    {
     "data": {
      "text/plain": [
       "{'nazovUctovnejJednotky': 'PE-KA-DOS spol. s r.o.',\n",
       " 'ico': '44739419',\n",
       " 'dic': '2022813419',\n",
       " 'adresa': {'ulica': 'Šintava',\n",
       "  'cislo': '14',\n",
       "  'psc': '92551',\n",
       "  'mesto': 'Šintava'},\n",
       " 'skNace': '49410',\n",
       " 'typZavierky': 'Riadna',\n",
       " 'obdobieOd': '2013-01',\n",
       " 'obdobieDo': '2013-12',\n",
       " 'predchadzajuceObdobieOd': '2012-01',\n",
       " 'predchadzajuceObdobieDo': '2012-12',\n",
       " 'datumZostavenia': '2014-03-27'}"
      ]
     },
     "metadata": {},
     "output_type": "display_data"
    },
    {
     "name": "stdout",
     "output_type": "stream",
     "text": [
      "{'sk': 'Strana aktív'}\n",
      "['128486', '26679', '101807', '138605', '108414', '26679', '81735', '88492', '', '', '', '', '', '', '', '', '', '', '', '', '', '', '', '', '', '', '', '', '', '', '', '', '', '', '', '', '', '', '', '', '108414', '26679', '81735', '88492', '', '', '', '', '', '', '', '', '108414', '26679', '81735', '88492', '', '', '', '', '', '', '', '', '', '', '', '', '', '', '', '', '', '', '', '', '', '', '', '', '', '', '', '', '', '', '', '', '', '', '', '', '', '', '', '', '', '', '', '', '', '', '', '', '', '', '', '', '', '', '', '', '', '', '', '', '20072', '', '20072', '50113', '50', '', '50', '50', '', '', '', '', '', '', '', '', '', '', '', '', '', '', '', '', '', '', '', '', '50', '', '50', '50', '4594', '', '4594', '3678', '', '', '', '', '', '', '', '', '', '', '', '', '', '', '', '', '4594', '', '4594', '3678', '', '', '', '', '', '', '', '', '14777', '', '14777', '41449', '14777', '', '14777', '41449', '', '', '', '', '', '', '', '', '', '', '', '', '', '', '', '', '', '', '', '', '', '', '', '', '', '', '', '', '651', '', '651', '4936', '313', '', '313', '978', '338', '', '338', '3958', '', '', '', '', '', '', '', '', '', '', '', '', '', '', '', '', '', '', '', '', '', '', '', '', '', '', '', '', '', '', '', '']\n",
      "{'sk': 'Strana pasív'}\n",
      "['101807', '138605', '-55961', '-40363', '9000', '9000', '9000', '9000', '', '', '', '', '', '', '', '', '', '', '', '', '', '', '', '', '', '', '', '', '', '', '', '', '', '', '', '', '-44032', '-34169', '', '', '-44032', '-34169', '-20929', '-15194', '157768', '178968', '', '', '', '', '', '', '', '', '', '', '24979', '34585', '', '', '', '', '', '', '', '', '', '', '', '', '', '', '', '', '', '', '24979', '34585', '', '', '132789', '144383', '8707', '6861', '', '', '', '', '', '', '', '', '124054', '137500', '', '', '', '', '28', '22', '', '', '', '', '', '', '', '', '', '', '', '', '', '', '', '', '', '', '', '']\n",
      "[]\n",
      "\n"
     ]
    }
   ],
   "source": [
    "for template_id in reports_table['template_id'].unique():\n",
    "    print('template:', template_id)\n",
    "    qstring = f'template_id == {template_id}'\n",
    "    get_random_report(qstring)\n",
    "    print()"
   ]
  }
 ],
 "metadata": {
  "kernelspec": {
   "display_name": "Python 3",
   "language": "python",
   "name": "python3"
  },
  "language_info": {
   "codemirror_mode": {
    "name": "ipython",
    "version": 3
   },
   "file_extension": ".py",
   "mimetype": "text/x-python",
   "name": "python",
   "nbconvert_exporter": "python",
   "pygments_lexer": "ipython3",
   "version": "3.10.0"
  }
 },
 "nbformat": 4,
 "nbformat_minor": 2
}
