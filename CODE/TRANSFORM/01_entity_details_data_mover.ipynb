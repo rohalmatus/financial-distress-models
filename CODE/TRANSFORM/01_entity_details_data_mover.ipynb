{
 "cells": [
  {
   "cell_type": "code",
   "execution_count": 1,
   "metadata": {},
   "outputs": [],
   "source": [
    "import pandas as pd\n",
    "import numpy as np"
   ]
  },
  {
   "cell_type": "code",
   "execution_count": 12,
   "metadata": {},
   "outputs": [],
   "source": [
    "RAW_FOLDER = '../../DATA/RAW/'\n",
    "TRANSFORM_FOLDER = '../../DATA/TRANSFORMED/'"
   ]
  },
  {
   "cell_type": "code",
   "execution_count": 13,
   "metadata": {},
   "outputs": [],
   "source": [
    "dat = pd.read_csv(RAW_FOLDER + 'zrusenie_registracie_dph/final/zrusenie_registracie_dph.csv')\n",
    "dat.columns = ['ic_dph', 'entity_name', 'entity_city', 'entity_zip', 'entity_address', 'vat_cancellation_year', 'vat_cancellation_publication_date', 'entity_ico']\n",
    "dat.query('entity_ico == entity_ico').to_csv(TRANSFORM_FOLDER + 'entity_details/vat_registration_cancellation.csv', index = False)"
   ]
  },
  {
   "cell_type": "code",
   "execution_count": 14,
   "metadata": {},
   "outputs": [
    {
     "name": "stderr",
     "output_type": "stream",
     "text": [
      "C:\\Users\\matus.rohal\\AppData\\Roaming\\Python\\Python310\\site-packages\\IPython\\core\\interactiveshell.py:3433: DtypeWarning: Columns (0,4) have mixed types.Specify dtype option on import or set low_memory=False.\n",
      "  exec(code_obj, self.user_global_ns, self.user_ns)\n"
     ]
    }
   ],
   "source": [
    "dat = pd.read_csv(RAW_FOLDER + 'register_upadcov/final/register_upadcov.csv')\n",
    "dat.columns = ['proceeding_start', 'proceeding_label', 'court', 'entity_name',\n",
    "       'proceeding_start_date', 'entity_ico', 'proceeding_type', 'proceeding_month']\n",
    "\n",
    "dat.query('entity_ico == entity_ico').to_csv(TRANSFORM_FOLDER + 'entity_details/insolvency_register.csv', index = False)"
   ]
  },
  {
   "cell_type": "code",
   "execution_count": 19,
   "metadata": {},
   "outputs": [],
   "source": [
    "dat = pd.read_csv('../../DATA/RAW/register_organizacii/business_register_full_dataset.csv')\n",
    "dat.columns = ['id', 'entity_ico', 'valid_from', 'valid_to',\n",
    "       'stat_codes_actualization', 'main_activity_codelist_code',\n",
    "       'main_activity_code', 'main_activity', 'esa2010_codelist_code',\n",
    "       'esa2010_code', 'esa2010', 'export_date']\n",
    "\n",
    "dat['entity_ico'] = pd.to_numeric(dat['entity_ico'], errors='coerce')\n",
    "dat.query('entity_ico == entity_ico and entity_ico > 0').to_csv(TRANSFORM_FOLDER + 'entity_details/business_register.csv', index = False)"
   ]
  },
  {
   "cell_type": "code",
   "execution_count": 27,
   "metadata": {},
   "outputs": [
    {
     "name": "stderr",
     "output_type": "stream",
     "text": [
      "C:\\Users\\matus.rohal\\AppData\\Roaming\\Python\\Python310\\site-packages\\IPython\\core\\interactiveshell.py:3433: DtypeWarning: Columns (2,20,21,22) have mixed types.Specify dtype option on import or set low_memory=False.\n",
      "  exec(code_obj, self.user_global_ns, self.user_ns)\n"
     ]
    }
   ],
   "source": [
    "dat = (pd.concat(\n",
    "    [\n",
    "        pd.read_csv('../../DATA/RAW/register_uz_apr23/preprocessed/entity_details_121.csv'),\n",
    "        pd.read_csv('../../DATA/RAW/register_uz_apr23/preprocessed/entity_details_112.csv')\n",
    "        ], axis = 0))\n",
    "\n",
    "dat.columns = ['id', 'annual_reports_list', 'financial_statements_list', 'entity_ico', 'entity_dic',\n",
    "       'entity_name', 'entity_city', 'entity_address', 'entity_zip', 'modified_date',\n",
    "       'establishment_date', 'legal_form_code', 'org_size_code', 'entity_county', 'entity_registerred_office',\n",
    "       'data_source', 'ownership_category_code', 'entity_region', 'sknace_code', 'consolidated',\n",
    "       'cancellation_date', 'entity_state', 'entity_name_RO', 'entity_city_RO', 'legal_form_RO',\n",
    "       'establishment_date_RO', 'cancellation_date_RO', 'entity_id']\n",
    "\n",
    "\n",
    "dat =  dat[['id', 'annual_reports_list', 'financial_statements_list', 'entity_ico',\n",
    "       'entity_name', 'establishment_date', 'legal_form_code', 'org_size_code', 'entity_county',\n",
    "       'data_source', 'ownership_category_code', 'entity_region', 'sknace_code', 'consolidated',\n",
    "       'cancellation_date', 'entity_state', 'legal_form_RO',\n",
    "       'establishment_date_RO', 'cancellation_date_RO', 'entity_id']]\n",
    "\n",
    "\n",
    "dat.to_csv(TRANSFORM_FOLDER + 'entity_details/financial_statements_register_entity_details.csv', index = False)\n"
   ]
  }
 ],
 "metadata": {
  "kernelspec": {
   "display_name": "Python 3",
   "language": "python",
   "name": "python3"
  },
  "language_info": {
   "codemirror_mode": {
    "name": "ipython",
    "version": 3
   },
   "file_extension": ".py",
   "mimetype": "text/x-python",
   "name": "python",
   "nbconvert_exporter": "python",
   "pygments_lexer": "ipython3",
   "version": "3.10.0"
  }
 },
 "nbformat": 4,
 "nbformat_minor": 2
}
