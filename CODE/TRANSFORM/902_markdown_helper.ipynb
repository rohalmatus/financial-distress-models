{
 "cells": [
  {
   "cell_type": "code",
   "execution_count": 1,
   "metadata": {},
   "outputs": [],
   "source": [
    "import pandas as pd"
   ]
  },
  {
   "cell_type": "code",
   "execution_count": 15,
   "metadata": {},
   "outputs": [
    {
     "name": "stdout",
     "output_type": "stream",
     "text": [
      "\\begin{tabular}{ll}\n",
      "\\toprule\n",
      "Názov &    Skratka \\\\\n",
      "\\midrule\n",
      " name &         CA \\\\\n",
      " name &       CASH \\\\\n",
      " name &         CL \\\\\n",
      " name &         EQ \\\\\n",
      " name &        NCL \\\\\n",
      " name &         TA \\\\\n",
      " name &         TL \\\\\n",
      " name &         CC \\\\\n",
      " name &        INV \\\\\n",
      " name &   CF\\_NETTO \\\\\n",
      " name & CF\\_SELFFIN \\\\\n",
      " name &        REV \\\\\n",
      " name &         VA \\\\\n",
      " name &         OE \\\\\n",
      " name &        EAT \\\\\n",
      " name &       EBIT \\\\\n",
      " name &        SAL \\\\\n",
      " name &       COST \\\\\n",
      " name &        INT \\\\\n",
      "\\bottomrule\n",
      "\\end{tabular}\n",
      "\n"
     ]
    }
   ],
   "source": [
    "VALUES = ['CA', 'CASH',\n",
    "       'CL', 'EQ', 'NCL', 'TA', 'TL', 'CC', 'INV', 'CF_NETTO', 'CF_SELFFIN',\n",
    "       'REV', 'VA', 'OE', 'EAT', 'EBIT', 'SAL', 'COST', 'INT']\n",
    "\n",
    "table = []\n",
    "\n",
    "for value in VALUES:\n",
    "    row = []\n",
    "    row.append('name')\n",
    "    row.append(value)\n",
    "\n",
    "    table.append(row)\n",
    "\n",
    "print(pd.DataFrame(table, columns=['Názov', 'Skratka']).to_latex(index=False))"
   ]
  }
 ],
 "metadata": {
  "kernelspec": {
   "display_name": "Python 3",
   "language": "python",
   "name": "python3"
  },
  "language_info": {
   "codemirror_mode": {
    "name": "ipython",
    "version": 3
   },
   "file_extension": ".py",
   "mimetype": "text/x-python",
   "name": "python",
   "nbconvert_exporter": "python",
   "pygments_lexer": "ipython3",
   "version": "3.10.0"
  }
 },
 "nbformat": 4,
 "nbformat_minor": 2
}
